{
 "cells": [
  {
   "cell_type": "code",
   "execution_count": 1,
   "id": "3956a70d",
   "metadata": {},
   "outputs": [
    {
     "data": {
      "text/html": [
       "<p>To authorize access needed by Earth Engine, open the following\n",
       "        URL in a web browser and follow the instructions:</p>\n",
       "        <p><a href=https://accounts.google.com/o/oauth2/auth?client_id=517222506229-vsmmajv00ul0bs7p89v5m89qs8eb9359.apps.googleusercontent.com&scope=https%3A%2F%2Fwww.googleapis.com%2Fauth%2Fearthengine+https%3A%2F%2Fwww.googleapis.com%2Fauth%2Fdevstorage.full_control&redirect_uri=urn%3Aietf%3Awg%3Aoauth%3A2.0%3Aoob&response_type=code&code_challenge=QtghDM8slYNrCTBJ1zq6AdWQ8SegUz15BVXNkd9CEDQ&code_challenge_method=S256>https://accounts.google.com/o/oauth2/auth?client_id=517222506229-vsmmajv00ul0bs7p89v5m89qs8eb9359.apps.googleusercontent.com&scope=https%3A%2F%2Fwww.googleapis.com%2Fauth%2Fearthengine+https%3A%2F%2Fwww.googleapis.com%2Fauth%2Fdevstorage.full_control&redirect_uri=urn%3Aietf%3Awg%3Aoauth%3A2.0%3Aoob&response_type=code&code_challenge=QtghDM8slYNrCTBJ1zq6AdWQ8SegUz15BVXNkd9CEDQ&code_challenge_method=S256</a></p>\n",
       "        <p>The authorization workflow will generate a code, which you\n",
       "        should paste in the box below</p>\n",
       "        "
      ],
      "text/plain": [
       "<IPython.core.display.HTML object>"
      ]
     },
     "metadata": {},
     "output_type": "display_data"
    },
    {
     "name": "stdout",
     "output_type": "stream",
     "text": [
      "Enter verification code: 4/1AX4XfWgOlXm3aWhqMlPCjdNUL_iwHu6EEF73VBfD5nW8RQfoF4n30ST0vXk\n",
      "\n",
      "Successfully saved authorization token.\n"
     ]
    }
   ],
   "source": [
    "import ee\n",
    "\n",
    "# Trigger the authentication flow.\n",
    "ee.Authenticate()\n",
    "\n",
    "# Initialize the library.\n",
    "ee.Initialize()"
   ]
  },
  {
   "cell_type": "code",
   "execution_count": 3,
   "id": "54106ffa",
   "metadata": {},
   "outputs": [],
   "source": [
    "# Import the MODIS land cover collection.\n",
    "lc = ee.ImageCollection('MODIS/006/MCD12Q1')\n",
    "\n",
    "# Import the MODIS land surface temperature collection.\n",
    "lst = ee.ImageCollection('MODIS/006/MOD11A1')\n",
    "\n",
    "# Import the USGS ground elevation image.\n",
    "elv = ee.Image('USGS/SRTMGL1_003')\n",
    "\n",
    "# Initial date of interest (inclusive).\n",
    "i_date = '2017-01-01'\n",
    "\n",
    "# Final date of interest (exclusive).\n",
    "f_date = '2020-01-21'\n",
    "\n",
    "# Selection of appropriate bands and dates for LST.\n",
    "lst = lst.select('LST_Day_1km', 'QC_Day').filterDate(i_date, f_date)"
   ]
  },
  {
   "cell_type": "code",
   "execution_count": 4,
   "id": "b952c9aa",
   "metadata": {},
   "outputs": [],
   "source": [
    "# Brussels\n",
    "u_lon = 4.309333\n",
    "u_lat = 50.872986\n",
    "u_poi = ee.Geometry.Point(u_lon, u_lat)"
   ]
  },
  {
   "cell_type": "code",
   "execution_count": 30,
   "id": "024ef032",
   "metadata": {},
   "outputs": [],
   "source": [
    "# Define a region of interest with a buffer zone of x km around Brussels.\n",
    "roi = u_poi.buffer(150000)\n",
    "\n",
    "# Reduce the LST collection by mean.\n",
    "lst_img = lst.mean()\n",
    "\n",
    "# Adjust for scale factor.\n",
    "lst_img = lst_img.select('LST_Day_1km').multiply(0.02)\n",
    "\n",
    "# Convert Kelvin to Celsius.\n",
    "lst_img = lst_img.select('LST_Day_1km').add(-273.15)\n"
   ]
  },
  {
   "cell_type": "code",
   "execution_count": 23,
   "id": "03899a35",
   "metadata": {},
   "outputs": [
    {
     "name": "stdout",
     "output_type": "stream",
     "text": [
      "https://earthengine.googleapis.com/v1alpha/projects/earthengine-legacy/thumbnails/830d589503a6885ce59c6948012d6850-f32cf51798e599a565279327ad9ef2b9:getPixels\n",
      "\n",
      "Please wait while the thumbnail loads, it may take a moment...\n"
     ]
    },
    {
     "data": {
      "text/html": [
       "<img src=\"https://earthengine.googleapis.com/v1alpha/projects/earthengine-legacy/thumbnails/830d589503a6885ce59c6948012d6850-f32cf51798e599a565279327ad9ef2b9:getPixels\"/>"
      ],
      "text/plain": [
       "<IPython.core.display.Image object>"
      ]
     },
     "execution_count": 23,
     "metadata": {},
     "output_type": "execute_result"
    }
   ],
   "source": [
    "from IPython.display import Image\n",
    "\n",
    "# Create a URL to the styled image for a region around Brussels.\n",
    "url = lst_img.getThumbUrl({\n",
    "    'min': 10, 'max': 30, 'dimensions': 512, 'region': roi,\n",
    "    'palette': ['blue', 'yellow', 'orange', 'red']})\n",
    "print(url)\n",
    "\n",
    "# Display the thumbnail land surface temperature in Belgium.\n",
    "print('\\nPlease wait while the thumbnail loads, it may take a moment...')\n",
    "Image(url=url)"
   ]
  },
  {
   "cell_type": "code",
   "execution_count": 31,
   "id": "dfbfd731",
   "metadata": {},
   "outputs": [
    {
     "data": {
      "text/html": [
       "<img src=\"https://earthengine.googleapis.com/v1alpha/projects/earthengine-legacy/thumbnails/3054de60421cb20d7f037d990ac6d29f-fbc8fc7631ac8c216239c3d40418ebf5:getPixels\"/>"
      ],
      "text/plain": [
       "<IPython.core.display.Image object>"
      ]
     },
     "execution_count": 31,
     "metadata": {},
     "output_type": "execute_result"
    }
   ],
   "source": [
    "# Make pixels with elevation below sea level transparent.\n",
    "elv_img = elv.updateMask(elv.gt(0))\n",
    "\n",
    "# Display the thumbnail of styled elevation in Belgium.\n",
    "Image(url=elv_img.getThumbURL({\n",
    "    'min': 0, 'max': 2000, 'dimensions': 512, 'region': roi,\n",
    "    'palette': ['006633', 'E5FFCC', '662A00', 'D8D8D8', 'F5F5F5']}))"
   ]
  },
  {
   "cell_type": "code",
   "execution_count": 32,
   "id": "388b70ea",
   "metadata": {},
   "outputs": [
    {
     "data": {
      "text/html": [
       "<img src=\"https://earthengine.googleapis.com/v1alpha/projects/earthengine-legacy/thumbnails/bcd74198e5d78cf7a10881f1cbbdb7c5-7ed3159743173871573cc7f0d21a6591:getPixels\"/>"
      ],
      "text/plain": [
       "<IPython.core.display.Image object>"
      ]
     },
     "execution_count": 32,
     "metadata": {},
     "output_type": "execute_result"
    }
   ],
   "source": [
    "# Get a feature collection of administrative boundaries.\n",
    "countries = ee.FeatureCollection('FAO/GAUL/2015/level0').select('ADM0_NAME')\n",
    "\n",
    "# Filter the feature collection to subset France.\n",
    "belgium = countries.filter(ee.Filter.eq('ADM0_NAME', 'Belgium'))\n",
    "\n",
    "# Clip the image by France.\n",
    "elv_fr = elv_img.clip(belgium)\n",
    "\n",
    "# Create the URL associated with the styled image data.\n",
    "url = elv_fr.getThumbUrl({\n",
    "    'min': 0, 'max': 2500, 'region': roi, 'dimensions': 512,\n",
    "    'palette': ['006633', 'E5FFCC', '662A00', 'D8D8D8', 'F5F5F5']})\n",
    "\n",
    "# Display a thumbnail of elevation in Belgium.\n",
    "Image(url=url)\n"
   ]
  },
  {
   "cell_type": "code",
   "execution_count": 36,
   "id": "abe618ee",
   "metadata": {},
   "outputs": [
    {
     "name": "stdout",
     "output_type": "stream",
     "text": [
      "https://earthengine.googleapis.com/v1alpha/projects/earthengine-legacy/thumbnails/458a292f2195a346d2c9d987f82124d0-1b71b840cbaa8737d0f785648acbde91:getPixels\n"
     ]
    }
   ],
   "source": [
    "\"\"\"\n",
    "#Export to drive\n",
    "task = ee.batch.Export.image.toDrive(image=elv_img,\n",
    "                                     description='elevation',\n",
    "                                     scale=30,\n",
    "                                     region=lyon,\n",
    "                                     fileNamePrefix='my_export_brussels',\n",
    "                                     crs='EPSG:4326',\n",
    "                                     fileFormat='GeoTIFF')\n",
    "task.start()\n",
    "\n",
    "\"\"\"\n",
    "brussel = roi = u_poi.buffer(1000)\n",
    "link = lst_img.getDownloadURL({\n",
    "    'scale': 30,\n",
    "    'crs': 'EPSG:4326',\n",
    "    'fileFormat': 'GeoTIFF',\n",
    "    'region': brussel})\n",
    "print(link)\n"
   ]
  }
 ],
 "metadata": {
  "kernelspec": {
   "display_name": "Python 3 (ipykernel)",
   "language": "python",
   "name": "python3"
  },
  "language_info": {
   "codemirror_mode": {
    "name": "ipython",
    "version": 3
   },
   "file_extension": ".py",
   "mimetype": "text/x-python",
   "name": "python",
   "nbconvert_exporter": "python",
   "pygments_lexer": "ipython3",
   "version": "3.9.7"
  }
 },
 "nbformat": 4,
 "nbformat_minor": 5
}
